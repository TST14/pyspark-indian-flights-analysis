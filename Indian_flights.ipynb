{
 "cells": [
  {
   "cell_type": "markdown",
   "metadata": {},
   "source": [
    "# PySpark Indian Flights Analysis\n"
   ]
  },
  {
   "cell_type": "code",
   "execution_count": 10,
   "metadata": {},
   "outputs": [
    {
     "name": "stdout",
     "output_type": "stream",
     "text": [
      "SparkContext: <SparkContext master=local[*] appName=pyspark-shell>\n",
      "Spark Version: 3.5.0\n"
     ]
    }
   ],
   "source": [
    "# Importing PySpark library for distributed data processing\n",
    "import pyspark as sp\n",
    "# Creating a SparkContext to initialize Spark\n",
    "sc = sp.SparkContext.getOrCreate()\n",
    "# Displaying the SparkContext information\n",
    "print(\"SparkContext:\", sc)\n",
    "# Printing the Spark version for reference\n",
    "print(\"Spark Version:\", sc.version)"
   ]
  },
  {
   "cell_type": "code",
   "execution_count": 11,
   "metadata": {},
   "outputs": [
    {
     "name": "stdout",
     "output_type": "stream",
     "text": [
      "SparkSession: <pyspark.sql.session.SparkSession object at 0x7f70cd799db0>\n"
     ]
    }
   ],
   "source": [
    "# Importing the SparkSession module from PySpark for working with structured data\n",
    "from pyspark.sql import SparkSession\n",
    "\n",
    "# Creating or getting an existing Spark session\n",
    "spark = SparkSession.builder.getOrCreate()\n",
    "\n",
    "# Displaying the SparkSession information\n",
    "print(\"SparkSession:\", spark)"
   ]
  },
  {
   "cell_type": "code",
   "execution_count": 12,
   "metadata": {},
   "outputs": [
    {
     "name": "stdout",
     "output_type": "stream",
     "text": [
      "Tables in Spark Catalog before creating temporary view: [Table(name='temp', catalog=None, namespace=[], description=None, tableType='TEMPORARY', isTemporary=True)]\n"
     ]
    },
    {
     "name": "stdout",
     "output_type": "stream",
     "text": [
      "Tables in Spark Catalog after creating temporary view: [Table(name='temp', catalog=None, namespace=[], description=None, tableType='TEMPORARY', isTemporary=True)]\n"
     ]
    }
   ],
   "source": [
    "# Importing necessary libraries for data manipulation and analysis\n",
    "import pandas as pd\n",
    "import numpy as np\n",
    "\n",
    "# Generating a Pandas DataFrame with random data\n",
    "pd_temp = pd.DataFrame(np.random.random(10))\n",
    "\n",
    "# Converting the Pandas DataFrame to a PySpark DataFrame\n",
    "spark_temp = spark.createDataFrame(pd_temp)\n",
    "\n",
    "# Displaying the list of tables in the Spark catalog before and after creating a temporary view\n",
    "print(\"Tables in Spark Catalog before creating temporary view:\", spark.catalog.listTables())\n",
    "\n",
    "# Creating a temporary view named \"temp\" for the PySpark DataFrame\n",
    "spark_temp.createOrReplaceTempView(\"temp\")\n",
    "\n",
    "# Displaying the list of tables in the Spark catalog after creating a temporary view\n",
    "print(\"Tables in Spark Catalog after creating temporary view:\", spark.catalog.listTables())\n"
   ]
  },
  {
   "cell_type": "code",
   "execution_count": 13,
   "metadata": {},
   "outputs": [
    {
     "name": "stdout",
     "output_type": "stream",
     "text": [
      "+-------+------------+---------+-----------+--------------------+----------------------+--------------------+----------+----------+----------+-----------+\n",
      "|airline|flightNumber|   origin|destination|          daysOfWeek|scheduledDepartureTime|scheduledArrivalTime|  timezone| validFrom|   validTo|lastUpdated|\n",
      "+-------+------------+---------+-----------+--------------------+----------------------+--------------------+----------+----------+----------+-----------+\n",
      "|  GoAir|         425|    Delhi|  Hyderabad|Sunday,Monday,Tue...|                 05:45|                  NA|2019-03-30|2018-10-28|2019-03-30| 2023-11-05|\n",
      "|  GoAir|         423|    Delhi|  Hyderabad|            Saturday|                 07:30|                  NA|2018-10-28|2018-10-28|2018-10-28| 2023-11-05|\n",
      "|  GoAir|         423|    Delhi|  Hyderabad|              Friday|                 07:30|                  NA|2018-12-01|2018-11-03|2018-12-01| 2023-11-05|\n",
      "|  GoAir|         423|    Delhi|  Hyderabad|              Friday|                 07:30|                  NA|2019-03-30|2019-02-02|2019-03-30| 2023-11-05|\n",
      "|  GoAir|         423|    Delhi|  Hyderabad|Sunday,Monday,Tue...|                 07:30|                  NA|2018-11-30|2018-10-29|2018-11-30| 2023-11-05|\n",
      "|  GoAir|         423|    Delhi|  Hyderabad|Sunday,Monday,Tue...|                 07:30|                  NA|2019-03-29|2019-02-01|2019-03-29| 2023-11-05|\n",
      "|  GoAir|         423|    Delhi|  Hyderabad|Sunday,Monday,Tue...|                 07:30|                  NA|2019-01-31|2018-12-02|2019-01-31| 2023-11-05|\n",
      "|  GoAir|         422|    Delhi|  Hyderabad|Sunday,Monday,Tue...|                 20:55|                  NA|2019-03-30|2018-10-28|2019-03-30| 2023-11-05|\n",
      "|  GoAir|         559|  Lucknow|  Hyderabad|Sunday,Tuesday,We...|                 15:45|               17:45|2019-03-30|2018-10-28|2019-03-30| 2023-11-05|\n",
      "|  GoAir|         580|    Kochi|  Hyderabad|Sunday,Monday,Tue...|                 04:45|               06:15|2019-03-30|2018-10-28|2019-03-30| 2023-11-05|\n",
      "|  GoAir|         587|    Kochi|  Hyderabad|Sunday,Tuesday,We...|                 17:20|               19:20|2019-03-30|2018-10-28|2019-03-30| 2023-11-05|\n",
      "|  GoAir|         587|    Kochi|  Hyderabad|              Monday|                 17:50|               19:20|2019-03-30|2018-10-28|2019-03-30| 2023-11-05|\n",
      "|  GoAir|         553|Ahmedabad|  Hyderabad|Sunday,Monday,Tue...|                 11:05|               12:45|2019-03-30|2018-10-29|2019-03-30| 2023-11-05|\n",
      "|  GoAir|         552|Ahmedabad|  Hyderabad|Sunday,Monday,Tue...|                 20:35|               22:20|2019-03-30|2018-10-28|2019-03-30| 2023-11-05|\n",
      "|  GoAir|         553|Ahmedabad|  Hyderabad|Sunday,Monday,Tue...|                 11:00|               12:45|2019-10-26|2019-04-01|2019-10-26| 2023-11-05|\n",
      "|  GoAir|         552|Ahmedabad|  Hyderabad|Sunday,Monday,Tue...|                 20:40|               22:20|2019-10-26|2019-03-31|2019-10-26| 2023-11-05|\n",
      "|  GoAir|         701|   Jaipur|  Hyderabad|            Saturday|                 08:55|               10:55|2019-03-24|2018-10-28|2019-03-24| 2023-11-05|\n",
      "|  GoAir|         431|   Jaipur|  Hyderabad|Sunday,Monday,Tue...|                 12:45|               15:05|2019-03-30|2018-10-28|2019-03-30| 2023-11-05|\n",
      "|  GoAir|         385|   Jaipur|  Hyderabad|Sunday,Monday,Tue...|                 17:55|                  NA|2019-03-30|2018-10-28|2019-03-30| 2023-11-05|\n",
      "|  GoAir|         894|Bengaluru|  Hyderabad|            Saturday|                 11:30|               12:40|2019-03-24|2018-10-28|2019-03-24| 2023-11-05|\n",
      "+-------+------------+---------+-----------+--------------------+----------------------+--------------------+----------+----------+----------+-----------+\n",
      "only showing top 20 rows\n",
      "\n"
     ]
    }
   ],
   "source": [
    "# Defining the file path for the Indian flights data\n",
    "file_path = './data/Flight_Schedule.csv'\n",
    "\n",
    "# Reading the data from the CSV file into a PySpark DataFrame\n",
    "flights = spark.read.csv(file_path, header=True)\n",
    "\n",
    "# Displaying a preview of the loaded data\n",
    "flights.show()\n"
   ]
  },
  {
   "cell_type": "code",
   "execution_count": 14,
   "metadata": {},
   "outputs": [
    {
     "data": {
      "text/plain": [
       "pyspark.sql.dataframe.DataFrame"
      ]
     },
     "execution_count": 14,
     "metadata": {},
     "output_type": "execute_result"
    }
   ],
   "source": [
    "# Checking the data type of the 'flights' DataFrame\n",
    "type(flights)"
   ]
  },
  {
   "cell_type": "code",
   "execution_count": 15,
   "metadata": {},
   "outputs": [
    {
     "data": {
      "text/plain": [
       "[Database(name='default', catalog='spark_catalog', description='default database', locationUri='file:/mnt/d/TST14/pyspark-indian-flights-analysis/spark-warehouse')]"
      ]
     },
     "execution_count": 15,
     "metadata": {},
     "output_type": "execute_result"
    }
   ],
   "source": [
    "# Displaying the list of available databases in the Spark catalog\n",
    "spark.catalog.listDatabases()"
   ]
  },
  {
   "cell_type": "code",
   "execution_count": 16,
   "metadata": {},
   "outputs": [
    {
     "data": {
      "text/plain": [
       "[Table(name='temp', catalog=None, namespace=[], description=None, tableType='TEMPORARY', isTemporary=True)]"
      ]
     },
     "execution_count": 16,
     "metadata": {},
     "output_type": "execute_result"
    }
   ],
   "source": [
    "# Displaying the list of tables in the Spark catalog\n",
    "spark.catalog.listTables()"
   ]
  },
  {
   "cell_type": "code",
   "execution_count": 17,
   "metadata": {},
   "outputs": [
    {
     "data": {
      "text/plain": [
       "[Table(name='flights', catalog=None, namespace=[], description=None, tableType='TEMPORARY', isTemporary=True),\n",
       " Table(name='temp', catalog=None, namespace=[], description=None, tableType='TEMPORARY', isTemporary=True)]"
      ]
     },
     "execution_count": 17,
     "metadata": {},
     "output_type": "execute_result"
    }
   ],
   "source": [
    "# Creating a temporary view named 'flights' for the flight schedule DataFrame\n",
    "flights.name = flights.createOrReplaceTempView('flights')\n",
    "\n",
    "# Displaying the list of tables in the Spark catalog after creating a temporary view\n",
    "spark.catalog.listTables()"
   ]
  },
  {
   "cell_type": "code",
   "execution_count": 18,
   "metadata": {},
   "outputs": [
    {
     "name": "stdout",
     "output_type": "stream",
     "text": [
      "+-------+------------+---------+-----------+--------------------+----------------------+--------------------+----------+----------+----------+-----------+\n",
      "|airline|flightNumber|   origin|destination|          daysOfWeek|scheduledDepartureTime|scheduledArrivalTime|  timezone| validFrom|   validTo|lastUpdated|\n",
      "+-------+------------+---------+-----------+--------------------+----------------------+--------------------+----------+----------+----------+-----------+\n",
      "|  GoAir|         425|    Delhi|  Hyderabad|Sunday,Monday,Tue...|                 05:45|                  NA|2019-03-30|2018-10-28|2019-03-30| 2023-11-05|\n",
      "|  GoAir|         423|    Delhi|  Hyderabad|            Saturday|                 07:30|                  NA|2018-10-28|2018-10-28|2018-10-28| 2023-11-05|\n",
      "|  GoAir|         423|    Delhi|  Hyderabad|              Friday|                 07:30|                  NA|2018-12-01|2018-11-03|2018-12-01| 2023-11-05|\n",
      "|  GoAir|         423|    Delhi|  Hyderabad|              Friday|                 07:30|                  NA|2019-03-30|2019-02-02|2019-03-30| 2023-11-05|\n",
      "|  GoAir|         423|    Delhi|  Hyderabad|Sunday,Monday,Tue...|                 07:30|                  NA|2018-11-30|2018-10-29|2018-11-30| 2023-11-05|\n",
      "|  GoAir|         423|    Delhi|  Hyderabad|Sunday,Monday,Tue...|                 07:30|                  NA|2019-03-29|2019-02-01|2019-03-29| 2023-11-05|\n",
      "|  GoAir|         423|    Delhi|  Hyderabad|Sunday,Monday,Tue...|                 07:30|                  NA|2019-01-31|2018-12-02|2019-01-31| 2023-11-05|\n",
      "|  GoAir|         422|    Delhi|  Hyderabad|Sunday,Monday,Tue...|                 20:55|                  NA|2019-03-30|2018-10-28|2019-03-30| 2023-11-05|\n",
      "|  GoAir|         559|  Lucknow|  Hyderabad|Sunday,Tuesday,We...|                 15:45|               17:45|2019-03-30|2018-10-28|2019-03-30| 2023-11-05|\n",
      "|  GoAir|         580|    Kochi|  Hyderabad|Sunday,Monday,Tue...|                 04:45|               06:15|2019-03-30|2018-10-28|2019-03-30| 2023-11-05|\n",
      "|  GoAir|         587|    Kochi|  Hyderabad|Sunday,Tuesday,We...|                 17:20|               19:20|2019-03-30|2018-10-28|2019-03-30| 2023-11-05|\n",
      "|  GoAir|         587|    Kochi|  Hyderabad|              Monday|                 17:50|               19:20|2019-03-30|2018-10-28|2019-03-30| 2023-11-05|\n",
      "|  GoAir|         553|Ahmedabad|  Hyderabad|Sunday,Monday,Tue...|                 11:05|               12:45|2019-03-30|2018-10-29|2019-03-30| 2023-11-05|\n",
      "|  GoAir|         552|Ahmedabad|  Hyderabad|Sunday,Monday,Tue...|                 20:35|               22:20|2019-03-30|2018-10-28|2019-03-30| 2023-11-05|\n",
      "|  GoAir|         553|Ahmedabad|  Hyderabad|Sunday,Monday,Tue...|                 11:00|               12:45|2019-10-26|2019-04-01|2019-10-26| 2023-11-05|\n",
      "|  GoAir|         552|Ahmedabad|  Hyderabad|Sunday,Monday,Tue...|                 20:40|               22:20|2019-10-26|2019-03-31|2019-10-26| 2023-11-05|\n",
      "|  GoAir|         701|   Jaipur|  Hyderabad|            Saturday|                 08:55|               10:55|2019-03-24|2018-10-28|2019-03-24| 2023-11-05|\n",
      "|  GoAir|         431|   Jaipur|  Hyderabad|Sunday,Monday,Tue...|                 12:45|               15:05|2019-03-30|2018-10-28|2019-03-30| 2023-11-05|\n",
      "|  GoAir|         385|   Jaipur|  Hyderabad|Sunday,Monday,Tue...|                 17:55|                  NA|2019-03-30|2018-10-28|2019-03-30| 2023-11-05|\n",
      "|  GoAir|         894|Bengaluru|  Hyderabad|            Saturday|                 11:30|               12:40|2019-03-24|2018-10-28|2019-03-24| 2023-11-05|\n",
      "+-------+------------+---------+-----------+--------------------+----------------------+--------------------+----------+----------+----------+-----------+\n",
      "only showing top 20 rows\n",
      "\n",
      "None\n"
     ]
    }
   ],
   "source": [
    "# Retrieving the flight schedule DataFrame from the temporary view 'flights'\n",
    "flights_df = spark.table('flights')\n",
    "\n",
    "# Displaying the first few rows of the flight schedule DataFrame\n",
    "print(flights_df.show())"
   ]
  },
  {
   "cell_type": "markdown",
   "metadata": {},
   "source": [
    "# 1. Flight Counts by Airline:"
   ]
  },
  {
   "cell_type": "code",
   "execution_count": 19,
   "metadata": {},
   "outputs": [],
   "source": [
    "# Clean data for Airline Counts analysis\n",
    "# Replace 'NA' strings with actual None values for Airline Counts analysis\n",
    "airline_counts_data = flights_df.na.replace('NA', None, subset=['airline']).na.drop(subset=['airline'])\n",
    "\n",
    "# Perform the Flight Counts by Airline analysis\n",
    "airline_counts = airline_counts_data.groupBy('airline').count().orderBy('count', ascending=False)\n"
   ]
  },
  {
   "cell_type": "code",
   "execution_count": 20,
   "metadata": {},
   "outputs": [
    {
     "name": "stdout",
     "output_type": "stream",
     "text": [
      "+--------------------+-----+\n",
      "|             airline|count|\n",
      "+--------------------+-----+\n",
      "|              IndiGo|41291|\n",
      "|               GoAir|11666|\n",
      "|            SpiceJet|10824|\n",
      "|           Air India| 8185|\n",
      "|       AirAsia India| 5227|\n",
      "|             Vistara| 4332|\n",
      "|Alliance Air (India)| 3069|\n",
      "|         Jet Airways| 1307|\n",
      "|              TruJet| 1141|\n",
      "|            Star Air|  472|\n",
      "|           Akasa Air|  438|\n",
      "|              FlyBig|  214|\n",
      "|             Jetlite|  117|\n",
      "|        IndiaOne Air|   24|\n",
      "+--------------------+-----+\n",
      "\n"
     ]
    }
   ],
   "source": [
    "airline_counts.show()"
   ]
  },
  {
   "cell_type": "markdown",
   "metadata": {},
   "source": [
    "# 2. Flight Counts by Origin-Destination Pair:"
   ]
  },
  {
   "cell_type": "code",
   "execution_count": 21,
   "metadata": {},
   "outputs": [
    {
     "name": "stderr",
     "output_type": "stream",
     "text": [
      "[Stage 25:=============================>                            (2 + 2) / 4]\r"
     ]
    },
    {
     "name": "stdout",
     "output_type": "stream",
     "text": [
      "+---------+-----------+-----+\n",
      "|   origin|destination|count|\n",
      "+---------+-----------+-----+\n",
      "|   Mumbai|      Delhi| 1339|\n",
      "|    Delhi|     Mumbai| 1297|\n",
      "|Bengaluru|      Delhi| 1018|\n",
      "| Srinagar|      Delhi|  973|\n",
      "|    Delhi|  Bengaluru|  924|\n",
      "|    Delhi|   Srinagar|  913|\n",
      "|    Delhi|    Kolkata|  802|\n",
      "|  Kolkata|      Delhi|  784|\n",
      "|   Mumbai|  Bengaluru|  768|\n",
      "|Bengaluru|     Mumbai|  737|\n",
      "|Bengaluru|  Hyderabad|  649|\n",
      "|  Kolkata|  Bengaluru|  607|\n",
      "|Ahmedabad|      Delhi|  605|\n",
      "|     Pune|      Delhi|  594|\n",
      "|    Delhi|       Pune|  593|\n",
      "|Hyderabad|  Bengaluru|  557|\n",
      "|    Delhi|  Hyderabad|  542|\n",
      "|    Delhi|  Ahmedabad|  539|\n",
      "|Bengaluru|    Kolkata|  537|\n",
      "|Hyderabad|      Delhi|  534|\n",
      "+---------+-----------+-----+\n",
      "only showing top 20 rows\n",
      "\n"
     ]
    },
    {
     "name": "stderr",
     "output_type": "stream",
     "text": [
      "                                                                                \r"
     ]
    }
   ],
   "source": [
    "# Clean data for Origin-Destination Counts analysis\n",
    "origin_dest_counts_data = flights_df.na.replace('NA', None, subset=['origin', 'destination']).na.drop(subset=['origin', 'destination'])\n",
    "origin_dest_counts = airline_counts_data.groupBy('origin', 'destination').count().orderBy('count', ascending=False)\n",
    "origin_dest_counts.show()\n"
   ]
  },
  {
   "cell_type": "markdown",
   "metadata": {},
   "source": [
    "# 3. Average Departure and Arrival Times:"
   ]
  },
  {
   "cell_type": "code",
   "execution_count": 22,
   "metadata": {},
   "outputs": [],
   "source": [
    "from pyspark.sql.functions import avg,col, unix_timestamp, from_unixtime"
   ]
  },
  {
   "cell_type": "code",
   "execution_count": 23,
   "metadata": {},
   "outputs": [],
   "source": [
    "# Replace 'NA' with None and drop null values\n",
    "avg_times_data = flights_df.na.replace('NA', None, subset=['scheduledDepartureTime', 'scheduledArrivalTime']).na.drop(subset=['scheduledDepartureTime', 'scheduledArrivalTime'])"
   ]
  },
  {
   "cell_type": "code",
   "execution_count": 24,
   "metadata": {},
   "outputs": [],
   "source": [
    "# Convert 'scheduledDepartureTime' to seconds since midnight and filter out null values\n",
    "avg_times_data = avg_times_data.withColumn('scheduledDepartureTime', unix_timestamp(col('scheduledDepartureTime'), 'HH:mm').cast('int'))\n",
    "avg_times_data = avg_times_data.filter(avg_times_data['scheduledDepartureTime'].isNotNull())\n",
    "\n",
    "# Convert 'scheduledArrivalTime' to seconds since midnight and filter out null values\n",
    "avg_times_data = avg_times_data.withColumn('scheduledArrivalTime', unix_timestamp(col('scheduledArrivalTime'), 'HH:mm').cast('int'))\n",
    "avg_times_data = avg_times_data.filter(avg_times_data['scheduledArrivalTime'].isNotNull())"
   ]
  },
  {
   "cell_type": "code",
   "execution_count": 25,
   "metadata": {},
   "outputs": [],
   "source": [
    "# Calculate average departure and arrival times grouped by origin\n",
    "avg_departure_time = avg_times_data.groupBy('origin').agg(avg('scheduledDepartureTime').alias('avg_departure_time'))\n",
    "avg_arrival_time = avg_times_data.groupBy('origin').agg(avg('scheduledArrivalTime').alias('avg_arrival_time'))\n",
    "\n",
    "# Convert average departure and arrival times back to 'HH:mm' format\n",
    "avg_departure_time = avg_departure_time.withColumn('avg_departure_time', from_unixtime('avg_departure_time', 'HH:mm'))\n",
    "avg_arrival_time = avg_arrival_time.withColumn('avg_arrival_time', from_unixtime('avg_arrival_time', 'HH:mm'))"
   ]
  },
  {
   "cell_type": "code",
   "execution_count": 26,
   "metadata": {},
   "outputs": [
    {
     "name": "stderr",
     "output_type": "stream",
     "text": [
      "[Stage 28:=============>    (3 + 1) / 4][Stage 29:=========>        (2 + 2) / 4]\r"
     ]
    },
    {
     "name": "stdout",
     "output_type": "stream",
     "text": [
      "+--------------+------------------+----------------+\n",
      "|        origin|avg_departure_time|avg_arrival_time|\n",
      "+--------------+------------------+----------------+\n",
      "|       Udaipur|             14:48|           16:22|\n",
      "|       Dimapur|             12:26|           13:48|\n",
      "|         Kochi|             12:44|           13:54|\n",
      "|    Aurangabad|             14:58|           16:28|\n",
      "|   Bhubaneswar|             13:46|           15:21|\n",
      "|        Aizwal|             13:22|           14:24|\n",
      "|        Mysore|             15:10|           16:29|\n",
      "|         MIHAN|             12:32|           13:56|\n",
      "|         Jammu|             14:17|           15:28|\n",
      "|       Jalgaon|             14:59|           16:21|\n",
      "|      Agartala|             14:28|           15:37|\n",
      "|          Bhuj|             12:12|           13:47|\n",
      "|     Darbhanga|             13:47|           15:58|\n",
      "|         Hubli|             13:56|           15:19|\n",
      "|         Patna|             14:23|           16:05|\n",
      "|Shirdi Airport|             13:57|           15:40|\n",
      "|       Jodhpur|             14:29|           16:09|\n",
      "|        Tezpur|             12:44|           13:29|\n",
      "|      Vadodara|             14:02|           15:36|\n",
      "|     Jaisalmer|             13:05|           14:35|\n",
      "+--------------+------------------+----------------+\n",
      "only showing top 20 rows\n",
      "\n"
     ]
    },
    {
     "name": "stderr",
     "output_type": "stream",
     "text": [
      "                                                                                \r"
     ]
    }
   ],
   "source": [
    "# Join the results on the 'origin' column\n",
    "result = avg_departure_time.join(avg_arrival_time, on='origin')\n",
    "\n",
    "# Show the results\n",
    "result.show()"
   ]
  },
  {
   "cell_type": "markdown",
   "metadata": {},
   "source": [
    "# 4. Busiest Day of the Week:"
   ]
  },
  {
   "cell_type": "code",
   "execution_count": 27,
   "metadata": {},
   "outputs": [],
   "source": [
    "from pyspark.sql.functions import explode, split"
   ]
  },
  {
   "cell_type": "code",
   "execution_count": 28,
   "metadata": {},
   "outputs": [],
   "source": [
    "# Clean data for Busiest Day of the Week analysis\n",
    "day_counts_data = flights_df.na.replace('NA', None, subset=['daysOfWeek']).na.drop(subset=['daysOfWeek'])\n"
   ]
  },
  {
   "cell_type": "code",
   "execution_count": 29,
   "metadata": {},
   "outputs": [],
   "source": [
    "day_counts = (\n",
    "    day_counts_data\n",
    "    .select('daysOfWeek')\n",
    "    .withColumn('day', explode(split('daysOfWeek', ',')))\n",
    "    .groupBy('day')\n",
    "    .count()\n",
    "    .orderBy('count', ascending=False)\n",
    ")"
   ]
  },
  {
   "cell_type": "code",
   "execution_count": 30,
   "metadata": {},
   "outputs": [
    {
     "name": "stdout",
     "output_type": "stream",
     "text": [
      "+---------+-----+\n",
      "|      day|count|\n",
      "+---------+-----+\n",
      "| Saturday|61171|\n",
      "|   Friday|59906|\n",
      "|  Tuesday|58477|\n",
      "| Thursday|58327|\n",
      "|   Monday|57993|\n",
      "|Wednesday|57902|\n",
      "|   Sunday|57691|\n",
      "+---------+-----+\n",
      "\n"
     ]
    }
   ],
   "source": [
    "day_counts.show()"
   ]
  },
  {
   "cell_type": "markdown",
   "metadata": {},
   "source": [
    "# 5. Busiest Airports and Airlines"
   ]
  },
  {
   "cell_type": "code",
   "execution_count": 31,
   "metadata": {},
   "outputs": [],
   "source": [
    "from pyspark.sql import SparkSession\n",
    "from pyspark.sql.functions import count, col\n",
    "import matplotlib.pyplot as plt"
   ]
  },
  {
   "cell_type": "code",
   "execution_count": 32,
   "metadata": {},
   "outputs": [],
   "source": [
    "# Identify busiest airports by counting the number of departures and arrivals\n",
    "busiest_airports = flights_df.groupBy(\"origin\").agg(count(\"*\").alias(\"total_flights\")).orderBy(\"total_flights\", ascending=False)"
   ]
  },
  {
   "cell_type": "code",
   "execution_count": 33,
   "metadata": {},
   "outputs": [
    {
     "name": "stderr",
     "output_type": "stream",
     "text": [
      "[Stage 37:==============>                                           (1 + 3) / 4]\r"
     ]
    },
    {
     "name": "stdout",
     "output_type": "stream",
     "text": [
      "+-----------+-------------+\n",
      "|     origin|total_flights|\n",
      "+-----------+-------------+\n",
      "|      Delhi|        13332|\n",
      "|  Bengaluru|         8941|\n",
      "|     Mumbai|         8301|\n",
      "|    Kolkata|         6120|\n",
      "|  Hyderabad|         5678|\n",
      "|    Chennai|         4824|\n",
      "|  Ahmedabad|         3560|\n",
      "|       Pune|         2726|\n",
      "|        Goa|         2251|\n",
      "|   Srinagar|         1897|\n",
      "|     Jaipur|         1615|\n",
      "|    Lucknow|         1507|\n",
      "|   Guwahati|         1430|\n",
      "| Chandigarh|         1421|\n",
      "|      Kochi|         1258|\n",
      "|      Patna|         1187|\n",
      "| Port Blair|         1090|\n",
      "|Bhubaneswar|         1085|\n",
      "|     Indore|         1022|\n",
      "|      MIHAN|          967|\n",
      "+-----------+-------------+\n",
      "only showing top 20 rows\n",
      "\n"
     ]
    },
    {
     "name": "stderr",
     "output_type": "stream",
     "text": [
      "                                                                                \r"
     ]
    }
   ],
   "source": [
    "busiest_airports.show()"
   ]
  },
  {
   "cell_type": "code",
   "execution_count": 34,
   "metadata": {},
   "outputs": [
    {
     "data": {
      "text/plain": [
       "<Figure size 1200x600 with 0 Axes>"
      ]
     },
     "metadata": {},
     "output_type": "display_data"
    },
    {
     "data": {
      "image/png": "[encoded data removed]",
      "text/plain": [
       "<Figure size 640x480 with 1 Axes>"
      ]
     },
     "metadata": {},
     "output_type": "display_data"
    }
   ],
   "source": [
    "# Plotting TOP !0 busiest airports\n",
    "\n",
    "busiest_airports_plot = busiest_airports.toPandas()\n",
    "# Sorting the DataFrame by total_flights in descending order\n",
    "busiest_airports_plot = busiest_airports_plot.sort_values(by='total_flights', ascending=False)\n",
    "\n",
    "# Selecting only the top 10 busiest airports\n",
    "top_10_airports = busiest_airports_plot.head(10)\n",
    "\n",
    "# Plotting the top 10 busiest airports\n",
    "plt.figure(figsize=(12, 6))\n",
    "top_10_airports.plot(kind='bar', x='origin', y='total_flights', color='skyblue', legend=False)\n",
    "plt.title('Top 10 Busiest Airports')\n",
    "plt.xlabel('Airport')\n",
    "plt.ylabel('Total Flights')\n",
    "plt.xticks(rotation=45, ha='right')\n",
    "plt.show()\n"
   ]
  },
  {
   "cell_type": "code",
   "execution_count": 35,
   "metadata": {},
   "outputs": [],
   "source": [
    "# Identify busiest airlines by counting the number of flights operated\n",
    "# Filter out rows where airline is 'NA'\n",
    "busiest_airlines = flights.filter(col(\"airline\") != 'NA') \\\n",
    "                          .groupBy(\"airline\") \\\n",
    "                          .agg(count(\"*\").alias(\"total_flights\")) \\\n",
    "                          .orderBy(\"total_flights\", ascending=False)"
   ]
  },
  {
   "cell_type": "code",
   "execution_count": 36,
   "metadata": {},
   "outputs": [
    {
     "name": "stdout",
     "output_type": "stream",
     "text": [
      "+--------------------+-------------+\n",
      "|             airline|total_flights|\n",
      "+--------------------+-------------+\n",
      "|              IndiGo|        41291|\n",
      "|               GoAir|        11666|\n",
      "|            SpiceJet|        10824|\n",
      "|           Air India|         8185|\n",
      "|       AirAsia India|         5227|\n",
      "|             Vistara|         4332|\n",
      "|Alliance Air (India)|         3069|\n",
      "|         Jet Airways|         1307|\n",
      "|              TruJet|         1141|\n",
      "|            Star Air|          472|\n",
      "|           Akasa Air|          438|\n",
      "|              FlyBig|          214|\n",
      "|             Jetlite|          117|\n",
      "|        IndiaOne Air|           24|\n",
      "+--------------------+-------------+\n",
      "\n"
     ]
    }
   ],
   "source": [
    "busiest_airlines.show()"
   ]
  },
  {
   "cell_type": "code",
   "execution_count": 37,
   "metadata": {},
   "outputs": [
    {
     "data": {
      "image/png": "[encoded data removed]",
      "text/plain": [
       "<Figure size 1200x600 with 1 Axes>"
      ]
     },
     "metadata": {},
     "output_type": "display_data"
    }
   ],
   "source": [
    "# Plotting busiest airlines\n",
    "busiest_airlines_plot = busiest_airlines.toPandas()\n",
    "# Sorting the DataFrame by total_flights in descending order\n",
    "busiest_airlines_plot = busiest_airlines_plot.sort_values(by='total_flights', ascending=False)\n",
    "\n",
    "# Plotting busiest airlines as a horizontal bar chart\n",
    "plt.figure(figsize=(12, 6))\n",
    "plt.barh(busiest_airlines_plot['airline'], busiest_airlines_plot['total_flights'], color='lightcoral')\n",
    "plt.title('Busiest Airlines')\n",
    "plt.xlabel('Total Flights')\n",
    "plt.ylabel('Airline')\n",
    "plt.show()\n",
    "\n"
   ]
  },
  {
   "cell_type": "markdown",
   "metadata": {},
   "source": [
    "# 6. Air Traffic Plots for Indian Airports"
   ]
  },
  {
   "cell_type": "code",
   "execution_count": 38,
   "metadata": {},
   "outputs": [],
   "source": [
    "import matplotlib.pyplot as plt\n",
    "from pyspark.sql.functions import unix_timestamp, col, hour\n",
    "from datetime import datetime"
   ]
  },
  {
   "cell_type": "code",
   "execution_count": 39,
   "metadata": {},
   "outputs": [
    {
     "name": "stdout",
     "output_type": "stream",
     "text": [
      "+-------+------------+---------+-----------+--------------------+----------------------+--------------------+----------+----------+----------+-----------+\n",
      "|airline|flightNumber|   origin|destination|          daysOfWeek|scheduledDepartureTime|scheduledArrivalTime|  timezone| validFrom|   validTo|lastUpdated|\n",
      "+-------+------------+---------+-----------+--------------------+----------------------+--------------------+----------+----------+----------+-----------+\n",
      "|  GoAir|         425|    Delhi|  Hyderabad|Sunday,Monday,Tue...|                 05:45|                  NA|2019-03-30|2018-10-28|2019-03-30| 2023-11-05|\n",
      "|  GoAir|         423|    Delhi|  Hyderabad|            Saturday|                 07:30|                  NA|2018-10-28|2018-10-28|2018-10-28| 2023-11-05|\n",
      "|  GoAir|         423|    Delhi|  Hyderabad|              Friday|                 07:30|                  NA|2018-12-01|2018-11-03|2018-12-01| 2023-11-05|\n",
      "|  GoAir|         423|    Delhi|  Hyderabad|              Friday|                 07:30|                  NA|2019-03-30|2019-02-02|2019-03-30| 2023-11-05|\n",
      "|  GoAir|         423|    Delhi|  Hyderabad|Sunday,Monday,Tue...|                 07:30|                  NA|2018-11-30|2018-10-29|2018-11-30| 2023-11-05|\n",
      "|  GoAir|         423|    Delhi|  Hyderabad|Sunday,Monday,Tue...|                 07:30|                  NA|2019-03-29|2019-02-01|2019-03-29| 2023-11-05|\n",
      "|  GoAir|         423|    Delhi|  Hyderabad|Sunday,Monday,Tue...|                 07:30|                  NA|2019-01-31|2018-12-02|2019-01-31| 2023-11-05|\n",
      "|  GoAir|         422|    Delhi|  Hyderabad|Sunday,Monday,Tue...|                 20:55|                  NA|2019-03-30|2018-10-28|2019-03-30| 2023-11-05|\n",
      "|  GoAir|         559|  Lucknow|  Hyderabad|Sunday,Tuesday,We...|                 15:45|               17:45|2019-03-30|2018-10-28|2019-03-30| 2023-11-05|\n",
      "|  GoAir|         580|    Kochi|  Hyderabad|Sunday,Monday,Tue...|                 04:45|               06:15|2019-03-30|2018-10-28|2019-03-30| 2023-11-05|\n",
      "|  GoAir|         587|    Kochi|  Hyderabad|Sunday,Tuesday,We...|                 17:20|               19:20|2019-03-30|2018-10-28|2019-03-30| 2023-11-05|\n",
      "|  GoAir|         587|    Kochi|  Hyderabad|              Monday|                 17:50|               19:20|2019-03-30|2018-10-28|2019-03-30| 2023-11-05|\n",
      "|  GoAir|         553|Ahmedabad|  Hyderabad|Sunday,Monday,Tue...|                 11:05|               12:45|2019-03-30|2018-10-29|2019-03-30| 2023-11-05|\n",
      "|  GoAir|         552|Ahmedabad|  Hyderabad|Sunday,Monday,Tue...|                 20:35|               22:20|2019-03-30|2018-10-28|2019-03-30| 2023-11-05|\n",
      "|  GoAir|         553|Ahmedabad|  Hyderabad|Sunday,Monday,Tue...|                 11:00|               12:45|2019-10-26|2019-04-01|2019-10-26| 2023-11-05|\n",
      "|  GoAir|         552|Ahmedabad|  Hyderabad|Sunday,Monday,Tue...|                 20:40|               22:20|2019-10-26|2019-03-31|2019-10-26| 2023-11-05|\n",
      "|  GoAir|         701|   Jaipur|  Hyderabad|            Saturday|                 08:55|               10:55|2019-03-24|2018-10-28|2019-03-24| 2023-11-05|\n",
      "|  GoAir|         431|   Jaipur|  Hyderabad|Sunday,Monday,Tue...|                 12:45|               15:05|2019-03-30|2018-10-28|2019-03-30| 2023-11-05|\n",
      "|  GoAir|         385|   Jaipur|  Hyderabad|Sunday,Monday,Tue...|                 17:55|                  NA|2019-03-30|2018-10-28|2019-03-30| 2023-11-05|\n",
      "|  GoAir|         894|Bengaluru|  Hyderabad|            Saturday|                 11:30|               12:40|2019-03-24|2018-10-28|2019-03-24| 2023-11-05|\n",
      "+-------+------------+---------+-----------+--------------------+----------------------+--------------------+----------+----------+----------+-----------+\n",
      "only showing top 20 rows\n",
      "\n"
     ]
    }
   ],
   "source": [
    "flights_df.show()"
   ]
  },
  {
   "cell_type": "code",
   "execution_count": 40,
   "metadata": {},
   "outputs": [],
   "source": [
    "# Replace 'NA' with None and drop null values\n",
    "flights_df_cleaned_times = flights_df.na.replace('NA', None, subset=['scheduledDepartureTime', 'scheduledArrivalTime']).na.drop(subset=['scheduledDepartureTime', 'scheduledArrivalTime'])"
   ]
  },
  {
   "cell_type": "code",
   "execution_count": 41,
   "metadata": {},
   "outputs": [],
   "source": [
    "# Convert 'scheduledDepartureTime' and 'scheduledArrivalTime' to seconds since midnight and filter out null values\n",
    "flights_df_cleaned_times = flights_df_cleaned_times.withColumn('scheduledDepartureTime', unix_timestamp(col('scheduledDepartureTime'), 'HH:mm').cast('int'))\n",
    "flights_df_cleaned_times = flights_df_cleaned_times.filter(flights_df_cleaned_times['scheduledDepartureTime'].isNotNull())\n",
    "flights_df_cleaned_times = flights_df_cleaned_times.withColumn('scheduledArrivalTime', unix_timestamp(col('scheduledArrivalTime'), 'HH:mm').cast('int'))\n",
    "flights_df_cleaned_times = flights_df_cleaned_times.filter(flights_df_cleaned_times['scheduledArrivalTime'].isNotNull())"
   ]
  },
  {
   "cell_type": "code",
   "execution_count": 42,
   "metadata": {},
   "outputs": [],
   "source": [
    "# Extract the hour of scheduled departure and arrival\n",
    "flights_df_cleaned_times = flights_df_cleaned_times.withColumn('departureHour', hour(from_unixtime('scheduledDepartureTime')))\n",
    "flights_df_cleaned_times = flights_df_cleaned_times.withColumn('arrivalHour', hour(from_unixtime('scheduledArrivalTime')))"
   ]
  },
  {
   "cell_type": "code",
   "execution_count": 43,
   "metadata": {},
   "outputs": [],
   "source": [
    "# Plotting the data\n",
    "departure_data = flights_df_cleaned_times.groupBy('departureHour').count().orderBy('departureHour').toPandas()\n",
    "arrival_data = flights_df_cleaned_times.groupBy('arrivalHour').count().orderBy('arrivalHour').toPandas()"
   ]
  },
  {
   "cell_type": "code",
   "execution_count": 44,
   "metadata": {},
   "outputs": [
    {
     "data": {
      "image/png": "[encoded data removed]",
      "text/plain": [
       "<Figure size 1200x600 with 1 Axes>"
      ]
     },
     "metadata": {},
     "output_type": "display_data"
    }
   ],
   "source": [
    "plt.figure(figsize=(12, 6))\n",
    "plt.subplot(1, 2, 1)\n",
    "plt.bar(departure_data['departureHour'], departure_data['count'])\n",
    "plt.title('Scheduled Departures in Indian Airports')\n",
    "plt.xlabel('Hour of the Day')\n",
    "plt.ylabel('Number of Flights')\n",
    "plt.xticks(range(0, 24, 4))\n",
    "plt.tight_layout()\n",
    "plt.show()\n"
   ]
  },
  {
   "cell_type": "code",
   "execution_count": 45,
   "metadata": {},
   "outputs": [
    {
     "data": {
      "image/png": "[encoded data removed]",
      "text/plain": [
       "<Figure size 1200x600 with 1 Axes>"
      ]
     },
     "metadata": {},
     "output_type": "display_data"
    }
   ],
   "source": [
    "plt.figure(figsize=(12, 6))\n",
    "plt.subplot(1, 2, 2)\n",
    "plt.bar(arrival_data['arrivalHour'], arrival_data['count'])\n",
    "plt.title('Scheduled Arrivals in Indian Airports')\n",
    "plt.xlabel('Hour of the Day')\n",
    "plt.ylabel('Number of Flights')\n",
    "plt.xticks(range(0, 24, 4))\n",
    "plt.tight_layout()\n",
    "plt.show()"
   ]
  }
 ],
 "metadata": {
  "kernelspec": {
   "display_name": "Python 3",
   "language": "python",
   "name": "python3"
  },
  "language_info": {
   "codemirror_mode": {
    "name": "ipython",
    "version": 3
   },
   "file_extension": ".py",
   "mimetype": "text/x-python",
   "name": "python",
   "nbconvert_exporter": "python",
   "pygments_lexer": "ipython3",
   "version": "3.10.12"
  }
 },
 "nbformat": 4,
 "nbformat_minor": 2
}
